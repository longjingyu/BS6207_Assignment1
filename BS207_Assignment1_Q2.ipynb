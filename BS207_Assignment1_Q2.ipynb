{
 "cells": [
  {
   "cell_type": "code",
   "execution_count": 1,
   "id": "a9a329fb",
   "metadata": {},
   "outputs": [],
   "source": [
    "import torch\n",
    "import torch.nn as nn\n",
    "from torchviz import make_dot\n",
    "import graphviz"
   ]
  },
  {
   "cell_type": "code",
   "execution_count": 2,
   "id": "80de17e3",
   "metadata": {},
   "outputs": [],
   "source": [
    "def print_compute_tree(name,node):\n",
    "    dot = make_dot(node) \n",
    "    #print(dot)\n",
    "    dot.render(name)"
   ]
  },
  {
   "cell_type": "code",
   "execution_count": 9,
   "id": "d05245af",
   "metadata": {
    "scrolled": true
   },
   "outputs": [],
   "source": [
    "if __name__=='__main__':\n",
    "    torch.manual_seed(2317)\n",
    "    x = torch.randn([1,1,10],requires_grad=True)\n",
    "    cn1 = nn.Conv1d(1,1,3,padding=1)\n",
    "    fc1 = nn.Linear(10,10)\n",
    "    fc2 = nn.Linear(10,1)\n",
    "    y = torch.sum(x)\n",
    "    c = cn1(x)\n",
    "    x = torch.flatten(x)+torch.flatten(c)\n",
    "    x = fc1(x)\n",
    "    x = fc2(x)\n",
    "    loss = torch.sum((x-y)*(x-y))\n",
    "    print_compute_tree('./tree_ex' ,loss)\n"
   ]
  },
  {
   "cell_type": "code",
   "execution_count": null,
   "id": "95d882d6",
   "metadata": {},
   "outputs": [],
   "source": []
  }
 ],
 "metadata": {
  "kernelspec": {
   "display_name": "Python 3",
   "language": "python",
   "name": "python3"
  },
  "language_info": {
   "codemirror_mode": {
    "name": "ipython",
    "version": 3
   },
   "file_extension": ".py",
   "mimetype": "text/x-python",
   "name": "python",
   "nbconvert_exporter": "python",
   "pygments_lexer": "ipython3",
   "version": "3.8.8"
  }
 },
 "nbformat": 4,
 "nbformat_minor": 5
}
